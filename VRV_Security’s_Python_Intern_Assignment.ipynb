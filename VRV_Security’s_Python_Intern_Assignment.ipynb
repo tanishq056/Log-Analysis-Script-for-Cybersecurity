{
  "nbformat": 4,
  "nbformat_minor": 0,
  "metadata": {
    "colab": {
      "provenance": []
    },
    "kernelspec": {
      "name": "python3",
      "display_name": "Python 3"
    },
    "language_info": {
      "name": "python"
    }
  },
  "cells": [
    {
      "cell_type": "markdown",
      "source": [
        "#Parse the Log File"
      ],
      "metadata": {
        "id": "ctk4ZPq549-C"
      }
    },
    {
      "cell_type": "code",
      "source": [
        "import re\n",
        "from collections import defaultdict\n",
        "\n",
        "# Function to parse the log file and extract required data\n",
        "def parse_log(file_path):\n",
        "    with open(file_path, 'r') as log_file:\n",
        "        log_data = log_file.readlines()\n",
        "\n",
        "    ip_addresses = []\n",
        "    endpoints = []\n",
        "    failed_logins = defaultdict(int)\n",
        "\n",
        "    for line in log_data:\n",
        "        # Extract IP address\n",
        "        ip_match = re.match(r\"(\\d+\\.\\d+\\.\\d+\\.\\d+)\", line)\n",
        "        if ip_match:\n",
        "            ip = ip_match.group(1)\n",
        "            ip_addresses.append(ip)\n",
        "\n",
        "        # Extract endpoint\n",
        "        endpoint_match = re.search(r'\"[A-Z]+\\s(\\/[^\\s]*)\\s', line)\n",
        "        if endpoint_match:\n",
        "            endpoint = endpoint_match.group(1)\n",
        "            endpoints.append(endpoint)\n",
        "\n",
        "        # Detect failed login attempts (status 401)\n",
        "        if ' 401 ' in line and \"Invalid credentials\" in line:\n",
        "            # Increment the failed login count for the respective IP address\n",
        "            failed_logins[ip] += 1\n",
        "\n",
        "    return ip_addresses, endpoints, failed_logins\n"
      ],
      "metadata": {
        "id": "pe5_8CQI5FyM"
      },
      "execution_count": null,
      "outputs": []
    },
    {
      "cell_type": "markdown",
      "source": [
        "#Count Requests per IP Address\n",
        "\n",
        "---\n",
        "\n"
      ],
      "metadata": {
        "id": "7BECGV8t5Sc5"
      }
    },
    {
      "cell_type": "code",
      "source": [
        "# Count requests per IP and sort in descending order\n",
        "def count_requests_per_ip(ip_addresses):\n",
        "    ip_count = Counter(ip_addresses)\n",
        "    sorted_ips = sorted(ip_count.items(), key=lambda x: x[1], reverse=True)\n",
        "    return sorted_ips\n"
      ],
      "metadata": {
        "id": "CFgGLO3X5Y6A"
      },
      "execution_count": null,
      "outputs": []
    },
    {
      "cell_type": "markdown",
      "source": [
        "#Find the Most Frequently Accessed Endpoint"
      ],
      "metadata": {
        "id": "k7XbAfp05b9C"
      }
    },
    {
      "cell_type": "code",
      "source": [
        "# Identify the most accessed endpoint\n",
        "def find_most_accessed_endpoint(endpoints):\n",
        "    endpoint_count = Counter(endpoints)\n",
        "    most_accessed = max(endpoint_count.items(), key=lambda x: x[1])\n",
        "    return most_accessed\n"
      ],
      "metadata": {
        "id": "MM-lc39K5ieQ"
      },
      "execution_count": null,
      "outputs": []
    },
    {
      "cell_type": "markdown",
      "source": [
        "#Detect Suspicious Activit"
      ],
      "metadata": {
        "id": "tZsgVwYF5mHw"
      }
    },
    {
      "cell_type": "code",
      "source": [
        "def display_suspicious_activity(failed_logins, threshold=2):\n",
        "\n",
        "    print(\"\\nSuspicious Activity Detected:\")\n",
        "    print(f\"{'IP Address':<20}{'Failed Login Attempts'}\")\n",
        "\n",
        "    # Flag to check if any suspicious activity is found\n",
        "    suspicious_found = False\n",
        "\n",
        "    for ip, count in failed_logins.items():\n",
        "        # Only show IP addresses with failed login attempts exceeding the threshold\n",
        "        if count > threshold:\n",
        "            print(f\"{ip:<20}{count}\")\n",
        "            suspicious_found = True\n",
        "\n",
        "    if not suspicious_found:\n",
        "        print(\"No suspicious activity detected.\")\n"
      ],
      "metadata": {
        "id": "hKdmDOEn5p6g"
      },
      "execution_count": null,
      "outputs": []
    },
    {
      "cell_type": "markdown",
      "source": [
        "#Save Results to a CSV File"
      ],
      "metadata": {
        "id": "bTwxCgWk5vQe"
      }
    },
    {
      "cell_type": "code",
      "source": [
        "# Save the results to a CSV file\n",
        "def save_to_csv(ip_data, endpoint_data, suspicious_data, output_file):\n",
        "    with open(output_file, 'w', newline='') as csvfile:\n",
        "        writer = csv.writer(csvfile)\n",
        "\n",
        "        # Write IP request count\n",
        "        writer.writerow([\"IP Address\", \"Request Count\"])\n",
        "        writer.writerows(ip_data)\n",
        "\n",
        "        # Write most accessed endpoint\n",
        "        writer.writerow([])\n",
        "        writer.writerow([\"Endpoint\", \"Access Count\"])\n",
        "        writer.writerow(endpoint_data)\n",
        "\n",
        "        # Write suspicious activity\n",
        "        writer.writerow([])\n",
        "        writer.writerow([\"IP Address\", \"Failed Login Count\"])\n",
        "        writer.writerows(suspicious_data.items())\n"
      ],
      "metadata": {
        "id": "pGuiTKcU514z"
      },
      "execution_count": null,
      "outputs": []
    },
    {
      "cell_type": "markdown",
      "source": [
        "#Main Function to Integrate All Components"
      ],
      "metadata": {
        "id": "4i8scaDs6E4v"
      }
    },
    {
      "cell_type": "code",
      "source": [
        "def main():\n",
        "    # File paths\n",
        "    log_file_path = \"sample.log\"\n",
        "    output_file_path = \"log_analysis_results.csv\"\n",
        "\n",
        "    # Parse the log file\n",
        "    ip_addresses, endpoints, failed_logins = parse_log(log_file_path)\n",
        "\n",
        "    # Analyze the log data\n",
        "    ip_data = count_requests_per_ip(ip_addresses)\n",
        "    most_accessed_endpoint = find_most_accessed_endpoint(endpoints)\n",
        "    suspicious_activity = detect_suspicious_activity(failed_logins,2)\n",
        "\n",
        "    # Display results\n",
        "    print(\"IP Address           Resquest Count\")\n",
        "    for ip, count in ip_data:\n",
        "        print(f\"{ip:<20} {count}\")\n",
        "\n",
        "    print(\"\\nMost Frequently Accessed Endpoint:\")\n",
        "    print(f\"{most_accessed_endpoint[0]} (Accessed {most_accessed_endpoint[1]} times)\")\n",
        "\n",
        "    print(\"\\nSuspicious Activity Detected:\")\n",
        "    print(\"IP Address           Failed Login Attempts\")\n",
        "\n",
        "    for ip, count in suspicious_activity.items():\n",
        "        print(f\"{ip:<20} {count}\")\n",
        "\n",
        "    # Save results to CSV\n",
        "    save_to_csv(ip_data, most_accessed_endpoint, suspicious_activity, output_file_path)\n",
        "    print(\"\\nResults saved to log_analysis_results.csv\")\n",
        "\n",
        "if __name__ == \"__main__\":\n",
        "    main()\n"
      ],
      "metadata": {
        "colab": {
          "base_uri": "https://localhost:8080/"
        },
        "id": "wT1wPxSv6R0G",
        "outputId": "02789887-c65c-4386-86f0-31f1b36b4fc1"
      },
      "execution_count": null,
      "outputs": [
        {
          "output_type": "stream",
          "name": "stdout",
          "text": [
            "IP Address           Resquest Count\n",
            "203.0.113.5          8\n",
            "198.51.100.23        8\n",
            "192.168.1.1          7\n",
            "10.0.0.2             6\n",
            "192.168.1.100        5\n",
            "\n",
            "Most Frequently Accessed Endpoint:\n",
            "/login (Accessed 13 times)\n",
            "\n",
            "Suspicious Activity Detected:\n",
            "IP Address           Failed Login Attempts\n",
            "203.0.113.5          8\n",
            "192.168.1.100        5\n",
            "\n",
            "Results saved to log_analysis_results.csv\n"
          ]
        }
      ]
    }
  ]
}